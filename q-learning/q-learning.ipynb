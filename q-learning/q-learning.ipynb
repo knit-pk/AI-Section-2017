{
 "cells": [
  {
   "cell_type": "markdown",
   "metadata": {},
   "source": [
    "## Q-Table learning"
   ]
  },
  {
   "cell_type": "code",
   "execution_count": 12,
   "metadata": {},
   "outputs": [],
   "source": [
    "import gym\n",
    "import numpy as np\n",
    "import time"
   ]
  },
  {
   "cell_type": "markdown",
   "metadata": {},
   "source": [
    "### Load environment"
   ]
  },
  {
   "cell_type": "code",
   "execution_count": 13,
   "metadata": {},
   "outputs": [],
   "source": [
    "env = gym.make('FrozenLake-v0')"
   ]
  },
  {
   "cell_type": "markdown",
   "metadata": {},
   "source": [
    "### Implement Q-Table learning algorithm"
   ]
  },
  {
   "cell_type": "markdown",
   "metadata": {},
   "source": [
    "### Temporal difference: (metoda różnic czasowych)\n",
    "$$\n",
    "Q(s_t,a_t) = Q(s_t,a_t) + \\alpha (r + \\gamma \\max_{a} Q(s_{t+1}, a) - Q(s_t,a_t))\n",
    "$$\n",
    "where<br>\n",
    "$ \\alpha $ - step size (learning rate)<br>\n",
    "$ \\gamma $ - discount factor<br>\n",
    "$ s_t $ - current state<br>\n",
    "$ s_{t+1} $ - next state <br>\n",
    "$ r $ - reward<br>\n",
    "$ a $ - action"
   ]
  },
  {
   "cell_type": "code",
   "execution_count": 14,
   "metadata": {},
   "outputs": [
    {
     "name": "stdout",
     "output_type": "stream",
     "text": [
      "(64, 4)\n"
     ]
    }
   ],
   "source": [
    "#Initialize table with all zeros\n",
    "Q = np.zeros([env.observation_space.n, env.action_space.n])\n",
    "#size of Q table\n",
    "print(Q.shape)"
   ]
  },
  {
   "cell_type": "markdown",
   "metadata": {},
   "source": [
    "### Simple example"
   ]
  },
  {
   "cell_type": "code",
   "execution_count": 6,
   "metadata": {},
   "outputs": [
    {
     "name": "stdout",
     "output_type": "stream",
     "text": [
      "  (Down)\n",
      "SFFF\n",
      "F\u001b[41mH\u001b[0mFH\n",
      "FFFH\n",
      "HFFG\n"
     ]
    }
   ],
   "source": [
    "a = .8 #alpha\n",
    "y = .95 #gamma\n",
    "Q = np.zeros([env.observation_space.n, env.action_space.n])\n",
    "#reset environment, state = 0\n",
    "state = env.reset()\n",
    "    \n",
    "reward = 0\n",
    "done = False\n",
    "for i in range(100):\n",
    "        \n",
    "    #choose action by greedily (with noise) picking from Q table (max value of current state)\n",
    "    action = np.argmax(Q[state,:] + np.random.randn(1,env.action_space.n)*(1./(i+1)))\n",
    "\n",
    "    #get new state and reward from environment\n",
    "    next_state, reward, done, _ = env.step(action)\n",
    "        \n",
    "    #update Q-Table with new knowledge\n",
    "    Q[state, action] = Q[state, action] + a*(reward + y*np.max(Q[next_state,:]) - Q[state, action])\n",
    "        \n",
    "    #update current state\n",
    "    state = next_state\n",
    "       \n",
    "    if done == True:\n",
    "        break\n",
    "\n",
    "env.render()"
   ]
  },
  {
   "cell_type": "markdown",
   "metadata": {},
   "source": [
    "### Example - one episode:"
   ]
  },
  {
   "cell_type": "code",
   "execution_count": 9,
   "metadata": {},
   "outputs": [
    {
     "name": "stdout",
     "output_type": "stream",
     "text": [
      "Visited states and actions:\n",
      "[['0' '0' '0' '0' '0' '0' '0' '4' '0' '4' '0' '0' '4' '5']\n",
      " ['d' 'u' 'l' 'u' 'd' 'l' 'd' 'l' 'l' 'l' 'd' 'd' 'u' '-']]\n",
      "\n",
      "Last move:\n",
      "  (Up)\n",
      "SFFF\n",
      "F\u001b[41mH\u001b[0mFH\n",
      "FFFH\n",
      "HFFG\n",
      "\n",
      "Numbers representing states:\n",
      "[[ 0  1  2  3]\n",
      " [ 4  5  6  7]\n",
      " [ 8  9 10 11]\n",
      " [12 13 14 15]]\n",
      "\n",
      "Total reward:  0.0\n"
     ]
    }
   ],
   "source": [
    "a = .8 #alpha\n",
    "y = .95 #gamma\n",
    "Q = np.zeros([env.observation_space.n, env.action_space.n])\n",
    "num_episodes = 1\n",
    "\n",
    "for i in range(num_episodes):\n",
    "    #reset environment, state = 0\n",
    "    state = env.reset()\n",
    "    \n",
    "    reward = 0\n",
    "    done = False\n",
    "    total_reward = 0\n",
    "    visited_states = [0, ]\n",
    "    choosed_actions = []\n",
    "    for j in range(100):\n",
    "        \n",
    "        #choose action by greedily (with noise) picking from Q table (max value of current state)\n",
    "        action = np.argmax(Q[state,:] + np.random.randn(1,env.action_space.n)*(1./(i+1)))\n",
    "        \n",
    "        #get new state and reward from environment\n",
    "        next_state, reward, done, _ = env.step(action)\n",
    "        \n",
    "        #update Q-Table with new knowledge\n",
    "        Q[state, action] = Q[state, action] + a*(reward + y*np.max(Q[next_state,:]) - Q[state, action])\n",
    "        \n",
    "        #update current state\n",
    "        state = next_state\n",
    "        \n",
    "        visited_states.append(state)\n",
    "        choosed_actions.append(\n",
    "        {\n",
    "            0 : 'l',\n",
    "            1 : 'd',\n",
    "            2 : 'r',\n",
    "            3 : 'u'\n",
    "        }[action])\n",
    "        total_reward += reward        \n",
    "        \n",
    "        if done == True:\n",
    "            break\n",
    "\n",
    "choosed_actions.append('-')\n",
    "print('Visited states and actions:')\n",
    "print(np.array([visited_states, choosed_actions]))\n",
    "print()\n",
    "print('Last move:')\n",
    "env.render()\n",
    "print()\n",
    "print('Numbers representing states:')\n",
    "print(np.arange(0,16).reshape(4,4))\n",
    "print()\n",
    "print('Total reward: ',total_reward)"
   ]
  },
  {
   "cell_type": "markdown",
   "metadata": {},
   "source": [
    "We add noise when choosing action, because in this environment we don't have penalties for jumping into the hole (H state). Without noise the agent would always choose to go left (np.argmax() returns first occurance of the max value, so at the beginning when all values for states are zeros [0, 0, 0, 0], it returns index 0 all the time - which corresponds to going left)."
   ]
  },
  {
   "cell_type": "markdown",
   "metadata": {},
   "source": [
    "### Example - 2000 episodes:"
   ]
  },
  {
   "cell_type": "code",
   "execution_count": 18,
   "metadata": {},
   "outputs": [
    {
     "name": "stdout",
     "output_type": "stream",
     "text": [
      "Score over time: 0.3145\n",
      "[[  5.47242497e-03   1.64380106e-02   3.44985731e-03   3.55635773e-03]\n",
      " [  3.69935640e-03   1.07043186e-02   4.18476117e-03   4.03424938e-03]\n",
      " [  4.91803121e-03   3.66555311e-03   1.84080681e-02   5.42968722e-03]\n",
      " [  4.67001998e-03   5.61678111e-03   2.28697383e-02   5.16714092e-03]\n",
      " [  6.27364959e-03   2.79517949e-02   6.37674690e-03   6.48952878e-03]\n",
      " [  7.71494947e-03   6.40672575e-02   7.73014170e-03   7.57673767e-03]\n",
      " [  9.54639819e-03   1.01832302e-02   3.94130224e-02   9.27751106e-03]\n",
      " [  1.14019560e-02   1.29669237e-01   1.14440939e-02   1.10398678e-02]\n",
      " [  3.29096158e-03   5.60967829e-03   3.89244651e-03   7.92581588e-03]\n",
      " [  3.35113000e-03   1.10550432e-02   3.65395178e-03   5.01587648e-03]\n",
      " [  2.62990967e-03   1.79701144e-03   2.75506661e-03   1.98420965e-02]\n",
      " [  1.39901590e-03   1.81035835e-03   1.52985356e-03   2.56177184e-02]\n",
      " [  3.71722008e-03   3.21263960e-03   3.88193369e-03   2.93269683e-02]\n",
      " [  5.46819860e-03   4.71040083e-03   7.74951541e-03   4.82542792e-02]\n",
      " [  8.80008760e-03   9.21767549e-02   6.41652659e-03   9.95519074e-03]\n",
      " [  1.20151549e-02   8.89538181e-02   1.27136482e-02   5.41465652e-03]\n",
      " [  5.46939544e-03   3.36900738e-03   3.64094694e-03   1.05343823e-02]\n",
      " [  2.64029816e-03   2.56044854e-03   3.08772276e-03   8.32424440e-03]\n",
      " [  1.04844955e-02   2.09015796e-04   4.52557592e-04   5.78253839e-05]\n",
      " [  0.00000000e+00   0.00000000e+00   0.00000000e+00   0.00000000e+00]\n",
      " [  6.02620795e-04   3.73043473e-05   4.77334668e-02   1.75518883e-04]\n",
      " [  1.66189006e-03   3.26030722e-03   2.02481846e-03   7.70480314e-03]\n",
      " [  9.77599323e-03   1.18247329e-02   1.47975904e-01   6.28914480e-03]\n",
      " [  9.33103924e-02   1.77750502e-03   1.61922989e-02   1.35248019e-02]\n",
      " [  2.97416604e-03   3.04043861e-03   3.31956285e-03   7.95060159e-03]\n",
      " [  1.07804554e-03   9.89041554e-04   8.14478126e-03   1.22631924e-03]\n",
      " [  1.01112304e-02   2.41325537e-04   3.55678870e-04   8.72783483e-04]\n",
      " [  2.98086364e-06   3.43762074e-04   1.19015171e-05   7.44029659e-05]\n",
      " [  4.06286414e-04   9.34516614e-05   8.16194906e-04   4.36088675e-04]\n",
      " [  0.00000000e+00   0.00000000e+00   0.00000000e+00   0.00000000e+00]\n",
      " [  2.01689099e-03   4.35537072e-04   1.25973789e-01   3.78752211e-04]\n",
      " [  1.37676498e-03   2.20837602e-02   3.81348009e-01   7.80157933e-03]\n",
      " [  2.08341906e-03   1.93396922e-03   2.01161013e-03   1.98087069e-03]\n",
      " [  4.37712728e-04   1.59125265e-04   8.63693505e-07   1.98399651e-02]\n",
      " [  6.68961108e-05   8.53912505e-05   2.20577756e-07   1.65889122e-03]\n",
      " [  0.00000000e+00   0.00000000e+00   0.00000000e+00   0.00000000e+00]\n",
      " [  2.75904793e-04   3.36422233e-04   5.85382876e-03   1.58493531e-03]\n",
      " [  1.06233466e-03   1.87770683e-02   4.12555239e-04   4.67546074e-04]\n",
      " [  5.02190700e-04   2.82602447e-06   2.14848911e-03   8.81407692e-02]\n",
      " [  1.14267521e-03   9.58546994e-03   6.63213824e-01   7.74158915e-03]\n",
      " [  1.73544373e-03   1.62886700e-03   6.07282038e-04   1.43686999e-04]\n",
      " [  0.00000000e+00   0.00000000e+00   0.00000000e+00   0.00000000e+00]\n",
      " [  0.00000000e+00   0.00000000e+00   0.00000000e+00   0.00000000e+00]\n",
      " [  6.43227775e-11   8.32226806e-05   1.82807950e-04   5.66181741e-04]\n",
      " [  2.17233307e-04   4.24943183e-04   5.50872285e-03   8.08229793e-04]\n",
      " [  6.19687554e-03   1.08960397e-03   1.04170028e-03   1.35677661e-05]\n",
      " [  0.00000000e+00   0.00000000e+00   0.00000000e+00   0.00000000e+00]\n",
      " [  2.60128569e-04   5.58461066e-03   8.22808812e-01   2.14666597e-04]\n",
      " [  1.55908437e-03   4.31643004e-05   3.54145223e-04   2.20629903e-04]\n",
      " [  0.00000000e+00   0.00000000e+00   0.00000000e+00   0.00000000e+00]\n",
      " [  6.20485210e-06   0.00000000e+00   2.67883099e-05   0.00000000e+00]\n",
      " [  8.67523199e-05   2.03591155e-05   5.52765544e-05   5.17253286e-05]\n",
      " [  0.00000000e+00   0.00000000e+00   0.00000000e+00   0.00000000e+00]\n",
      " [  1.44116773e-03   4.75990874e-04   3.97882016e-03   1.71201143e-03]\n",
      " [  0.00000000e+00   0.00000000e+00   0.00000000e+00   0.00000000e+00]\n",
      " [  1.17923483e-04   5.90578490e-05   9.70541606e-01   8.96218471e-05]\n",
      " [  1.78071589e-03   4.96525692e-04   7.30565298e-04   1.47763689e-03]\n",
      " [  4.29283627e-04   3.29710472e-04   3.84230118e-05   2.64469069e-04]\n",
      " [  3.46069856e-04   3.91885396e-05   2.41973551e-05   1.14509994e-06]\n",
      " [  0.00000000e+00   0.00000000e+00   0.00000000e+00   0.00000000e+00]\n",
      " [  2.15263268e-05   2.15251291e-04   1.39976124e-02   0.00000000e+00]\n",
      " [  0.00000000e+00   6.08854330e-01   0.00000000e+00   0.00000000e+00]\n",
      " [  0.00000000e+00   0.00000000e+00   9.60063878e-01   0.00000000e+00]\n",
      " [  0.00000000e+00   0.00000000e+00   0.00000000e+00   0.00000000e+00]]\n"
     ]
    }
   ],
   "source": [
    "a = .8 #alpha\n",
    "y = .95 #gamma\n",
    "Q = np.zeros([env.observation_space.n, env.action_space.n])\n",
    "num_episodes = 2000\n",
    "rList = [] #reward list\n",
    "for i in range(num_episodes):\n",
    "    state = env.reset()\n",
    "    \n",
    "    reward = 0\n",
    "    done = False\n",
    "    total_reward = 0\n",
    "    for j in range(100):\n",
    "        action = np.argmax(Q[state,:] + np.random.randn(1,env.action_space.n)*(1./(i+1)))\n",
    "        next_state, reward, done, _ = env.step(action)\n",
    "        Q[state, action] = Q[state, action] + a*(reward + y*np.max(Q[next_state,:]) - Q[state, action])\n",
    "        \n",
    "        state = next_state\n",
    "        \n",
    "        total_reward += reward        \n",
    "        \n",
    "        if done == True:\n",
    "            break\n",
    "    rList.append(total_reward)\n",
    "    \n",
    "print(\"Score over time: \" +  str(sum(rList)/num_episodes))\n",
    "print(Q)"
   ]
  },
  {
   "cell_type": "markdown",
   "metadata": {},
   "source": [
    "## Numpy stuff\n",
    "### What Q[state, :] means?\n",
    "\n",
    "**Python slice notation**<br>\n",
    "Given an array \"a\":\n",
    "```python\n",
    "a[start:end] # items start through end-1\n",
    "a[start:]    # items start through the rest of the array\n",
    "a[:end]      # items from the beginning through end-1\n",
    "a[:]         # a copy of the whole array\n",
    "\n",
    "a[start:end:step] # start through not past end, by step\n",
    "```\n",
    "\n",
    "Let's consider we have a matrices like this:"
   ]
  },
  {
   "cell_type": "code",
   "execution_count": 57,
   "metadata": {},
   "outputs": [
    {
     "name": "stdout",
     "output_type": "stream",
     "text": [
      "[[1 1 1]\n",
      " [2 2 2]\n",
      " [3 3 3]]\n",
      "\n",
      "[[1 2 3]\n",
      " [1 2 3]\n",
      " [1 2 3]]\n"
     ]
    }
   ],
   "source": [
    "A = np.array([[1, 1, 1],[2, 2, 2],[3, 3, 3]])\n",
    "B = np.array([[1, 2, 3],[1, 2, 3],[1, 2, 3]])\n",
    "print(A)\n",
    "print()\n",
    "print(B)"
   ]
  },
  {
   "cell_type": "markdown",
   "metadata": {},
   "source": [
    "Getting a \"slice\" of array means to get subarray."
   ]
  },
  {
   "cell_type": "code",
   "execution_count": 61,
   "metadata": {},
   "outputs": [
    {
     "name": "stdout",
     "output_type": "stream",
     "text": [
      "[1 1 1]\n"
     ]
    }
   ],
   "source": [
    "#get first row\n",
    "subA = A[0, :]\n",
    "#first argument is row number - 1st row (0 indexed array)\n",
    "#second argument is column numbers - \":\" means every column\n",
    "print(subA)"
   ]
  },
  {
   "cell_type": "code",
   "execution_count": 62,
   "metadata": {},
   "outputs": [
    {
     "name": "stdout",
     "output_type": "stream",
     "text": [
      "[[1 2]\n",
      " [1 2]\n",
      " [1 2]]\n"
     ]
    }
   ],
   "source": [
    "#get first two columns\n",
    "subB = B[:, 0:2]\n",
    "# 0:2 - means column [0, 2) - column 0 to 2, without 2\n",
    "print(subB)"
   ]
  },
  {
   "cell_type": "markdown",
   "metadata": {},
   "source": [
    "### np.argmax(a, axis=None, out=None)\n",
    "Returns the indices of the maximum values along an axis."
   ]
  },
  {
   "cell_type": "code",
   "execution_count": 70,
   "metadata": {
    "scrolled": true
   },
   "outputs": [
    {
     "name": "stdout",
     "output_type": "stream",
     "text": [
      "[[ 1  3  2]\n",
      " [ 3  4 16]]\n"
     ]
    }
   ],
   "source": [
    "array = np.array([[1,3,2],[3,4,16]])\n",
    "print(array)"
   ]
  },
  {
   "cell_type": "code",
   "execution_count": 71,
   "metadata": {},
   "outputs": [
    {
     "name": "stdout",
     "output_type": "stream",
     "text": [
      "[1 3 2]\n",
      "max value in first row on index:  1\n",
      "\n",
      "[ 3  4 16]\n",
      "max value in second row on index:  2\n"
     ]
    }
   ],
   "source": [
    "idx = np.argmax(array[0,:])\n",
    "print(array[0,:])\n",
    "print('max value in first row on index: ', idx)\n",
    "print()\n",
    "idx = np.argmax(array[1,:])\n",
    "print(array[1,:])\n",
    "print('max value in second row on index: ', idx)"
   ]
  }
 ],
 "metadata": {
  "kernelspec": {
   "display_name": "Python 3",
   "language": "python",
   "name": "python3"
  },
  "language_info": {
   "codemirror_mode": {
    "name": "ipython",
    "version": 3
   },
   "file_extension": ".py",
   "mimetype": "text/x-python",
   "name": "python",
   "nbconvert_exporter": "python",
   "pygments_lexer": "ipython3",
   "version": "3.6.3"
  }
 },
 "nbformat": 4,
 "nbformat_minor": 2
}
